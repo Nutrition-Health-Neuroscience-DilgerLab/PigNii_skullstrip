{
 "cells": [
  {
   "cell_type": "code",
   "execution_count": 1,
   "metadata": {},
   "outputs": [],
   "source": [
    "import pre_proc_functions_031624 as proc\n",
    "import os"
   ]
  },
  {
   "cell_type": "code",
   "execution_count": null,
   "metadata": {},
   "outputs": [],
   "source": [
    "img_dir = \"/home/zimu/Desktop/Code/Skull_Stripe_dataset/img_4wks_restored\"\n",
    "images_output_dir = \"./split\"\n",
    "img_fixed = \"_mc_restore\""
   ]
  },
  {
   "cell_type": "code",
   "execution_count": null,
   "metadata": {},
   "outputs": [],
   "source": [
    "proc.nii_to_png_sag(\n",
    "    img_dir = img_dir,\n",
    "    img_out_dir = os.path.join(images_output_dir,'sag'),\n",
    "    img_fixed = img_fixed,\n",
    ")\n",
    "\n",
    "proc.nii_to_png_cor(\n",
    "    img_dir = img_dir,\n",
    "    img_out_dir = os.path.join(images_output_dir,'cor'),\n",
    "    img_fixed = img_fixed,\n",
    ")\n",
    "\n",
    "proc.nii_to_png_ax(\n",
    "    img_dir = img_dir,\n",
    "    img_out_dir = os.path.join(images_output_dir,'ax'),\n",
    "    img_fixed = img_fixed,\n",
    ")"
   ]
  }
 ],
 "metadata": {
  "kernelspec": {
   "display_name": "base",
   "language": "python",
   "name": "python3"
  },
  "language_info": {
   "codemirror_mode": {
    "name": "ipython",
    "version": 3
   },
   "file_extension": ".py",
   "mimetype": "text/x-python",
   "name": "python",
   "nbconvert_exporter": "python",
   "pygments_lexer": "ipython3",
   "version": "3.11.4"
  }
 },
 "nbformat": 4,
 "nbformat_minor": 2
}
